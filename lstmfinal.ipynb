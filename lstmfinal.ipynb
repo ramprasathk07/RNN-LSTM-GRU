{
  "cells": [
    {
      "cell_type": "code",
      "execution_count": 25,
      "metadata": {
        "id": "e5AAoelMvNAA"
      },
      "outputs": [],
      "source": [
        "import pandas as pd\n",
        "import numpy as np\n",
        "import nltk\n",
        "import re\n",
        "from nltk.corpus import stopwords\n",
        "import pandas as pd\n",
        "import numpy as np\n",
        "import re\n",
        "import string\n",
        "\n",
        "from tensorflow.keras.preprocessing.text import Tokenizer\n",
        "from tensorflow.keras.preprocessing.sequence import pad_sequences\n",
        "from tensorflow.keras.models import Sequential\n",
        "from tensorflow.keras.layers import Dense, Embedding, LSTM, BatchNormalization,Dropout,SimpleRNN,Bidirectional,GRU\n",
        "from keras.utils.np_utils import to_categorical\n",
        "from tensorflow.keras.optimizers import Adam\n",
        "# import gensim \n",
        "from sklearn.model_selection import train_test_split\n",
        "from sklearn.metrics import confusion_matrix,classification_report\n",
        "from nltk.corpus import stopwords\n",
        "import matplotlib.pyplot as plt\n",
        "from tensorflow.keras.callbacks import EarlyStopping\n",
        "import tensorflow as tf\n",
        "import keras as k\n",
        "from keras.layers import LSTM,Embedding,Dense\n",
        "from tensorflow.keras.preprocessing.text import one_hot\n",
        "from tensorflow.keras.preprocessing.sequence import pad_sequences\n",
        "from tensorflow.keras import regularizers\n",
        "from keras.models import Sequential"
      ]
    },
    {
      "cell_type": "code",
      "execution_count": 26,
      "metadata": {
        "colab": {
          "base_uri": "https://localhost:8080/",
          "height": 424
        },
        "id": "QIjN97RtvNAB",
        "outputId": "d43bf7c0-2827-49ed-f35a-e802c6b2bcfa"
      },
      "outputs": [
        {
          "data": {
            "text/html": [
              "\n",
              "  <div id=\"df-3702230e-2b75-41ff-af0c-393d7782ac91\">\n",
              "    <div class=\"colab-df-container\">\n",
              "      <div>\n",
              "<style scoped>\n",
              "    .dataframe tbody tr th:only-of-type {\n",
              "        vertical-align: middle;\n",
              "    }\n",
              "\n",
              "    .dataframe tbody tr th {\n",
              "        vertical-align: top;\n",
              "    }\n",
              "\n",
              "    .dataframe thead th {\n",
              "        text-align: right;\n",
              "    }\n",
              "</style>\n",
              "<table border=\"1\" class=\"dataframe\">\n",
              "  <thead>\n",
              "    <tr style=\"text-align: right;\">\n",
              "      <th></th>\n",
              "      <th>review</th>\n",
              "      <th>sentiment</th>\n",
              "    </tr>\n",
              "  </thead>\n",
              "  <tbody>\n",
              "    <tr>\n",
              "      <th>0</th>\n",
              "      <td>One of the other reviewers has mentioned that ...</td>\n",
              "      <td>positive</td>\n",
              "    </tr>\n",
              "    <tr>\n",
              "      <th>1</th>\n",
              "      <td>A wonderful little production. &lt;br /&gt;&lt;br /&gt;The...</td>\n",
              "      <td>positive</td>\n",
              "    </tr>\n",
              "    <tr>\n",
              "      <th>2</th>\n",
              "      <td>I thought this was a wonderful way to spend ti...</td>\n",
              "      <td>positive</td>\n",
              "    </tr>\n",
              "    <tr>\n",
              "      <th>3</th>\n",
              "      <td>Basically there's a family where a little boy ...</td>\n",
              "      <td>negative</td>\n",
              "    </tr>\n",
              "    <tr>\n",
              "      <th>4</th>\n",
              "      <td>Petter Mattei's \"Love in the Time of Money\" is...</td>\n",
              "      <td>positive</td>\n",
              "    </tr>\n",
              "    <tr>\n",
              "      <th>...</th>\n",
              "      <td>...</td>\n",
              "      <td>...</td>\n",
              "    </tr>\n",
              "    <tr>\n",
              "      <th>49995</th>\n",
              "      <td>I thought this movie did a down right good job...</td>\n",
              "      <td>positive</td>\n",
              "    </tr>\n",
              "    <tr>\n",
              "      <th>49996</th>\n",
              "      <td>Bad plot, bad dialogue, bad acting, idiotic di...</td>\n",
              "      <td>negative</td>\n",
              "    </tr>\n",
              "    <tr>\n",
              "      <th>49997</th>\n",
              "      <td>I am a Catholic taught in parochial elementary...</td>\n",
              "      <td>negative</td>\n",
              "    </tr>\n",
              "    <tr>\n",
              "      <th>49998</th>\n",
              "      <td>I'm going to have to disagree with the previou...</td>\n",
              "      <td>negative</td>\n",
              "    </tr>\n",
              "    <tr>\n",
              "      <th>49999</th>\n",
              "      <td>No one expects the Star Trek movies to be high...</td>\n",
              "      <td>negative</td>\n",
              "    </tr>\n",
              "  </tbody>\n",
              "</table>\n",
              "<p>50000 rows × 2 columns</p>\n",
              "</div>\n",
              "      <button class=\"colab-df-convert\" onclick=\"convertToInteractive('df-3702230e-2b75-41ff-af0c-393d7782ac91')\"\n",
              "              title=\"Convert this dataframe to an interactive table.\"\n",
              "              style=\"display:none;\">\n",
              "        \n",
              "  <svg xmlns=\"http://www.w3.org/2000/svg\" height=\"24px\"viewBox=\"0 0 24 24\"\n",
              "       width=\"24px\">\n",
              "    <path d=\"M0 0h24v24H0V0z\" fill=\"none\"/>\n",
              "    <path d=\"M18.56 5.44l.94 2.06.94-2.06 2.06-.94-2.06-.94-.94-2.06-.94 2.06-2.06.94zm-11 1L8.5 8.5l.94-2.06 2.06-.94-2.06-.94L8.5 2.5l-.94 2.06-2.06.94zm10 10l.94 2.06.94-2.06 2.06-.94-2.06-.94-.94-2.06-.94 2.06-2.06.94z\"/><path d=\"M17.41 7.96l-1.37-1.37c-.4-.4-.92-.59-1.43-.59-.52 0-1.04.2-1.43.59L10.3 9.45l-7.72 7.72c-.78.78-.78 2.05 0 2.83L4 21.41c.39.39.9.59 1.41.59.51 0 1.02-.2 1.41-.59l7.78-7.78 2.81-2.81c.8-.78.8-2.07 0-2.86zM5.41 20L4 18.59l7.72-7.72 1.47 1.35L5.41 20z\"/>\n",
              "  </svg>\n",
              "      </button>\n",
              "      \n",
              "  <style>\n",
              "    .colab-df-container {\n",
              "      display:flex;\n",
              "      flex-wrap:wrap;\n",
              "      gap: 12px;\n",
              "    }\n",
              "\n",
              "    .colab-df-convert {\n",
              "      background-color: #E8F0FE;\n",
              "      border: none;\n",
              "      border-radius: 50%;\n",
              "      cursor: pointer;\n",
              "      display: none;\n",
              "      fill: #1967D2;\n",
              "      height: 32px;\n",
              "      padding: 0 0 0 0;\n",
              "      width: 32px;\n",
              "    }\n",
              "\n",
              "    .colab-df-convert:hover {\n",
              "      background-color: #E2EBFA;\n",
              "      box-shadow: 0px 1px 2px rgba(60, 64, 67, 0.3), 0px 1px 3px 1px rgba(60, 64, 67, 0.15);\n",
              "      fill: #174EA6;\n",
              "    }\n",
              "\n",
              "    [theme=dark] .colab-df-convert {\n",
              "      background-color: #3B4455;\n",
              "      fill: #D2E3FC;\n",
              "    }\n",
              "\n",
              "    [theme=dark] .colab-df-convert:hover {\n",
              "      background-color: #434B5C;\n",
              "      box-shadow: 0px 1px 3px 1px rgba(0, 0, 0, 0.15);\n",
              "      filter: drop-shadow(0px 1px 2px rgba(0, 0, 0, 0.3));\n",
              "      fill: #FFFFFF;\n",
              "    }\n",
              "  </style>\n",
              "\n",
              "      <script>\n",
              "        const buttonEl =\n",
              "          document.querySelector('#df-3702230e-2b75-41ff-af0c-393d7782ac91 button.colab-df-convert');\n",
              "        buttonEl.style.display =\n",
              "          google.colab.kernel.accessAllowed ? 'block' : 'none';\n",
              "\n",
              "        async function convertToInteractive(key) {\n",
              "          const element = document.querySelector('#df-3702230e-2b75-41ff-af0c-393d7782ac91');\n",
              "          const dataTable =\n",
              "            await google.colab.kernel.invokeFunction('convertToInteractive',\n",
              "                                                     [key], {});\n",
              "          if (!dataTable) return;\n",
              "\n",
              "          const docLinkHtml = 'Like what you see? Visit the ' +\n",
              "            '<a target=\"_blank\" href=https://colab.research.google.com/notebooks/data_table.ipynb>data table notebook</a>'\n",
              "            + ' to learn more about interactive tables.';\n",
              "          element.innerHTML = '';\n",
              "          dataTable['output_type'] = 'display_data';\n",
              "          await google.colab.output.renderOutput(dataTable, element);\n",
              "          const docLink = document.createElement('div');\n",
              "          docLink.innerHTML = docLinkHtml;\n",
              "          element.appendChild(docLink);\n",
              "        }\n",
              "      </script>\n",
              "    </div>\n",
              "  </div>\n",
              "  "
            ],
            "text/plain": [
              "                                                  review sentiment\n",
              "0      One of the other reviewers has mentioned that ...  positive\n",
              "1      A wonderful little production. <br /><br />The...  positive\n",
              "2      I thought this was a wonderful way to spend ti...  positive\n",
              "3      Basically there's a family where a little boy ...  negative\n",
              "4      Petter Mattei's \"Love in the Time of Money\" is...  positive\n",
              "...                                                  ...       ...\n",
              "49995  I thought this movie did a down right good job...  positive\n",
              "49996  Bad plot, bad dialogue, bad acting, idiotic di...  negative\n",
              "49997  I am a Catholic taught in parochial elementary...  negative\n",
              "49998  I'm going to have to disagree with the previou...  negative\n",
              "49999  No one expects the Star Trek movies to be high...  negative\n",
              "\n",
              "[50000 rows x 2 columns]"
            ]
          },
          "execution_count": 26,
          "metadata": {},
          "output_type": "execute_result"
        }
      ],
      "source": [
        "df=pd.read_csv(\"IMDB Dataset.csv\")\n",
        "df"
      ]
    },
    {
      "cell_type": "code",
      "execution_count": 27,
      "metadata": {
        "colab": {
          "base_uri": "https://localhost:8080/",
          "height": 424
        },
        "id": "UcY2cUqovNAC",
        "outputId": "2f908de4-d4d8-41b2-b2da-e308acb320f7"
      },
      "outputs": [
        {
          "data": {
            "text/html": [
              "\n",
              "  <div id=\"df-b6cdece5-ec54-48d1-bf20-72314210d68a\">\n",
              "    <div class=\"colab-df-container\">\n",
              "      <div>\n",
              "<style scoped>\n",
              "    .dataframe tbody tr th:only-of-type {\n",
              "        vertical-align: middle;\n",
              "    }\n",
              "\n",
              "    .dataframe tbody tr th {\n",
              "        vertical-align: top;\n",
              "    }\n",
              "\n",
              "    .dataframe thead th {\n",
              "        text-align: right;\n",
              "    }\n",
              "</style>\n",
              "<table border=\"1\" class=\"dataframe\">\n",
              "  <thead>\n",
              "    <tr style=\"text-align: right;\">\n",
              "      <th></th>\n",
              "      <th>review</th>\n",
              "      <th>sentiment</th>\n",
              "    </tr>\n",
              "  </thead>\n",
              "  <tbody>\n",
              "    <tr>\n",
              "      <th>0</th>\n",
              "      <td>One of the other reviewers has mentioned that ...</td>\n",
              "      <td>positive</td>\n",
              "    </tr>\n",
              "    <tr>\n",
              "      <th>1</th>\n",
              "      <td>A wonderful little production. &lt;br /&gt;&lt;br /&gt;The...</td>\n",
              "      <td>positive</td>\n",
              "    </tr>\n",
              "    <tr>\n",
              "      <th>2</th>\n",
              "      <td>I thought this was a wonderful way to spend ti...</td>\n",
              "      <td>positive</td>\n",
              "    </tr>\n",
              "    <tr>\n",
              "      <th>3</th>\n",
              "      <td>Basically there's a family where a little boy ...</td>\n",
              "      <td>negative</td>\n",
              "    </tr>\n",
              "    <tr>\n",
              "      <th>4</th>\n",
              "      <td>Petter Mattei's \"Love in the Time of Money\" is...</td>\n",
              "      <td>positive</td>\n",
              "    </tr>\n",
              "    <tr>\n",
              "      <th>...</th>\n",
              "      <td>...</td>\n",
              "      <td>...</td>\n",
              "    </tr>\n",
              "    <tr>\n",
              "      <th>9995</th>\n",
              "      <td>Fun, entertaining movie about WWII German spy ...</td>\n",
              "      <td>positive</td>\n",
              "    </tr>\n",
              "    <tr>\n",
              "      <th>9996</th>\n",
              "      <td>Give me a break. How can anyone say that this ...</td>\n",
              "      <td>negative</td>\n",
              "    </tr>\n",
              "    <tr>\n",
              "      <th>9997</th>\n",
              "      <td>This movie is a bad movie. But after watching ...</td>\n",
              "      <td>negative</td>\n",
              "    </tr>\n",
              "    <tr>\n",
              "      <th>9998</th>\n",
              "      <td>This is a movie that was probably made to ente...</td>\n",
              "      <td>negative</td>\n",
              "    </tr>\n",
              "    <tr>\n",
              "      <th>9999</th>\n",
              "      <td>Smashing film about film-making. Shows the int...</td>\n",
              "      <td>positive</td>\n",
              "    </tr>\n",
              "  </tbody>\n",
              "</table>\n",
              "<p>10000 rows × 2 columns</p>\n",
              "</div>\n",
              "      <button class=\"colab-df-convert\" onclick=\"convertToInteractive('df-b6cdece5-ec54-48d1-bf20-72314210d68a')\"\n",
              "              title=\"Convert this dataframe to an interactive table.\"\n",
              "              style=\"display:none;\">\n",
              "        \n",
              "  <svg xmlns=\"http://www.w3.org/2000/svg\" height=\"24px\"viewBox=\"0 0 24 24\"\n",
              "       width=\"24px\">\n",
              "    <path d=\"M0 0h24v24H0V0z\" fill=\"none\"/>\n",
              "    <path d=\"M18.56 5.44l.94 2.06.94-2.06 2.06-.94-2.06-.94-.94-2.06-.94 2.06-2.06.94zm-11 1L8.5 8.5l.94-2.06 2.06-.94-2.06-.94L8.5 2.5l-.94 2.06-2.06.94zm10 10l.94 2.06.94-2.06 2.06-.94-2.06-.94-.94-2.06-.94 2.06-2.06.94z\"/><path d=\"M17.41 7.96l-1.37-1.37c-.4-.4-.92-.59-1.43-.59-.52 0-1.04.2-1.43.59L10.3 9.45l-7.72 7.72c-.78.78-.78 2.05 0 2.83L4 21.41c.39.39.9.59 1.41.59.51 0 1.02-.2 1.41-.59l7.78-7.78 2.81-2.81c.8-.78.8-2.07 0-2.86zM5.41 20L4 18.59l7.72-7.72 1.47 1.35L5.41 20z\"/>\n",
              "  </svg>\n",
              "      </button>\n",
              "      \n",
              "  <style>\n",
              "    .colab-df-container {\n",
              "      display:flex;\n",
              "      flex-wrap:wrap;\n",
              "      gap: 12px;\n",
              "    }\n",
              "\n",
              "    .colab-df-convert {\n",
              "      background-color: #E8F0FE;\n",
              "      border: none;\n",
              "      border-radius: 50%;\n",
              "      cursor: pointer;\n",
              "      display: none;\n",
              "      fill: #1967D2;\n",
              "      height: 32px;\n",
              "      padding: 0 0 0 0;\n",
              "      width: 32px;\n",
              "    }\n",
              "\n",
              "    .colab-df-convert:hover {\n",
              "      background-color: #E2EBFA;\n",
              "      box-shadow: 0px 1px 2px rgba(60, 64, 67, 0.3), 0px 1px 3px 1px rgba(60, 64, 67, 0.15);\n",
              "      fill: #174EA6;\n",
              "    }\n",
              "\n",
              "    [theme=dark] .colab-df-convert {\n",
              "      background-color: #3B4455;\n",
              "      fill: #D2E3FC;\n",
              "    }\n",
              "\n",
              "    [theme=dark] .colab-df-convert:hover {\n",
              "      background-color: #434B5C;\n",
              "      box-shadow: 0px 1px 3px 1px rgba(0, 0, 0, 0.15);\n",
              "      filter: drop-shadow(0px 1px 2px rgba(0, 0, 0, 0.3));\n",
              "      fill: #FFFFFF;\n",
              "    }\n",
              "  </style>\n",
              "\n",
              "      <script>\n",
              "        const buttonEl =\n",
              "          document.querySelector('#df-b6cdece5-ec54-48d1-bf20-72314210d68a button.colab-df-convert');\n",
              "        buttonEl.style.display =\n",
              "          google.colab.kernel.accessAllowed ? 'block' : 'none';\n",
              "\n",
              "        async function convertToInteractive(key) {\n",
              "          const element = document.querySelector('#df-b6cdece5-ec54-48d1-bf20-72314210d68a');\n",
              "          const dataTable =\n",
              "            await google.colab.kernel.invokeFunction('convertToInteractive',\n",
              "                                                     [key], {});\n",
              "          if (!dataTable) return;\n",
              "\n",
              "          const docLinkHtml = 'Like what you see? Visit the ' +\n",
              "            '<a target=\"_blank\" href=https://colab.research.google.com/notebooks/data_table.ipynb>data table notebook</a>'\n",
              "            + ' to learn more about interactive tables.';\n",
              "          element.innerHTML = '';\n",
              "          dataTable['output_type'] = 'display_data';\n",
              "          await google.colab.output.renderOutput(dataTable, element);\n",
              "          const docLink = document.createElement('div');\n",
              "          docLink.innerHTML = docLinkHtml;\n",
              "          element.appendChild(docLink);\n",
              "        }\n",
              "      </script>\n",
              "    </div>\n",
              "  </div>\n",
              "  "
            ],
            "text/plain": [
              "                                                 review sentiment\n",
              "0     One of the other reviewers has mentioned that ...  positive\n",
              "1     A wonderful little production. <br /><br />The...  positive\n",
              "2     I thought this was a wonderful way to spend ti...  positive\n",
              "3     Basically there's a family where a little boy ...  negative\n",
              "4     Petter Mattei's \"Love in the Time of Money\" is...  positive\n",
              "...                                                 ...       ...\n",
              "9995  Fun, entertaining movie about WWII German spy ...  positive\n",
              "9996  Give me a break. How can anyone say that this ...  negative\n",
              "9997  This movie is a bad movie. But after watching ...  negative\n",
              "9998  This is a movie that was probably made to ente...  negative\n",
              "9999  Smashing film about film-making. Shows the int...  positive\n",
              "\n",
              "[10000 rows x 2 columns]"
            ]
          },
          "execution_count": 27,
          "metadata": {},
          "output_type": "execute_result"
        }
      ],
      "source": [
        "df=df.iloc[:10000,:] \n",
        "df"
      ]
    },
    {
      "cell_type": "code",
      "execution_count": 28,
      "metadata": {
        "colab": {
          "base_uri": "https://localhost:8080/"
        },
        "id": "8YVivT_1vNAC",
        "outputId": "e7294e90-51be-4369-f36e-a672abe44a78"
      },
      "outputs": [
        {
          "data": {
            "text/plain": [
              "review       0\n",
              "sentiment    0\n",
              "dtype: int64"
            ]
          },
          "execution_count": 28,
          "metadata": {},
          "output_type": "execute_result"
        }
      ],
      "source": [
        "df.isnull().sum()"
      ]
    },
    {
      "cell_type": "code",
      "execution_count": 29,
      "metadata": {
        "colab": {
          "base_uri": "https://localhost:8080/"
        },
        "id": "R3WrBSiavNAD",
        "outputId": "12cc318b-4b86-4841-92ca-0c8e897b80ee"
      },
      "outputs": [
        {
          "name": "stderr",
          "output_type": "stream",
          "text": [
            "<ipython-input-29-70819ea598eb>:1: SettingWithCopyWarning: \n",
            "A value is trying to be set on a copy of a slice from a DataFrame.\n",
            "Try using .loc[row_indexer,col_indexer] = value instead\n",
            "\n",
            "See the caveats in the documentation: https://pandas.pydata.org/pandas-docs/stable/user_guide/indexing.html#returning-a-view-versus-a-copy\n",
            "  df['review']=df['review'].apply(lambda x: x.lower())\n"
          ]
        }
      ],
      "source": [
        "df['review']=df['review'].apply(lambda x: x.lower())"
      ]
    },
    {
      "cell_type": "code",
      "execution_count": null,
      "metadata": {
        "colab": {
          "base_uri": "https://localhost:8080/"
        },
        "id": "_4xdGhxhvNAD",
        "outputId": "98ae6490-4375-4b23-a43c-236dd9676532"
      },
      "outputs": [],
      "source": [
        "df['review'] = df['review'].apply(lambda x: re.sub(r'([^\\w\\s])+', r'\\1', x))"
      ]
    },
    {
      "cell_type": "code",
      "execution_count": null,
      "metadata": {
        "colab": {
          "base_uri": "https://localhost:8080/"
        },
        "id": "dXzoiCgVvNAD",
        "outputId": "41fd1484-2b3b-4998-f3b4-e59cbe22914f"
      },
      "outputs": [],
      "source": [
        "for i in range(len(df['review'])):\n",
        "            df['review'][i]=re.sub('<br />','',df['review'][i])         #Removing <br /> \n",
        "            df['review'][i] = re.sub(r'[^\\w\\s]', ' ', df['review'][i])  #Replace multiple punctuations with single \n",
        "            df['review'][i]=re.sub(\"[^\\u0000-\\u05C0\\u2100-\\u214F]+\",'',df['review'][i]) # Removing non-English characters\n",
        "            df['review'][i] = \" \".join(df['review'][i] .split())   #removing extra spaces\n",
        "           "
      ]
    },
    {
      "cell_type": "code",
      "execution_count": null,
      "metadata": {
        "colab": {
          "base_uri": "https://localhost:8080/"
        },
        "id": "e2gsHlksvNAD",
        "outputId": "fd3360e3-7f3f-4000-ebec-b98f567b0da1"
      },
      "outputs": [],
      "source": [
        "from sklearn.preprocessing import LabelEncoder\n",
        "l=LabelEncoder()\n",
        "df['sentiment']=l.fit_transform(df['sentiment'])\n"
      ]
    },
    {
      "cell_type": "code",
      "execution_count": 33,
      "metadata": {
        "id": "Mb7svzEYvNAD"
      },
      "outputs": [],
      "source": [
        "X=df['review']"
      ]
    },
    {
      "cell_type": "code",
      "execution_count": 34,
      "metadata": {
        "id": "gDMlHMb9vNAD"
      },
      "outputs": [],
      "source": [
        "lab=df['sentiment']"
      ]
    },
    {
      "cell_type": "code",
      "execution_count": 35,
      "metadata": {
        "colab": {
          "base_uri": "https://localhost:8080/"
        },
        "id": "VPSUdYqYvNAD",
        "outputId": "7cebce34-83a9-4d1b-f585-44ab2a041004"
      },
      "outputs": [
        {
          "data": {
            "text/plain": [
              "array([[0, 1],\n",
              "       [0, 1],\n",
              "       [0, 1],\n",
              "       ...,\n",
              "       [1, 0],\n",
              "       [1, 0],\n",
              "       [0, 1]])"
            ]
          },
          "execution_count": 35,
          "metadata": {},
          "output_type": "execute_result"
        }
      ],
      "source": [
        "lab=k.utils.to_categorical(df['sentiment'],dtype=int)\n",
        "lab"
      ]
    },
    {
      "cell_type": "code",
      "execution_count": 36,
      "metadata": {
        "id": "pgs5cafavNAE"
      },
      "outputs": [],
      "source": [
        "text=df['review']"
      ]
    },
    {
      "cell_type": "code",
      "execution_count": 39,
      "metadata": {
        "colab": {
          "base_uri": "https://localhost:8080/"
        },
        "id": "I2SbrEb6-aXA",
        "outputId": "d6bd50d4-deed-4f66-aa04-9dd56c14904e"
      },
      "outputs": [
        {
          "name": "stderr",
          "output_type": "stream",
          "text": [
            "[nltk_data] Downloading package punkt to /root/nltk_data...\n",
            "[nltk_data]   Unzipping tokenizers/punkt.zip.\n"
          ]
        },
        {
          "data": {
            "text/plain": [
              "True"
            ]
          },
          "execution_count": 39,
          "metadata": {},
          "output_type": "execute_result"
        }
      ],
      "source": [
        "import nltk\n",
        "nltk.download('punkt')"
      ]
    },
    {
      "cell_type": "code",
      "execution_count": 40,
      "metadata": {
        "id": "BZXN2N-mvNAE"
      },
      "outputs": [],
      "source": [
        "from nltk.tokenize import word_tokenize"
      ]
    },
    {
      "cell_type": "code",
      "execution_count": 40,
      "metadata": {
        "id": "PZTfdywb-Yew"
      },
      "outputs": [],
      "source": []
    },
    {
      "cell_type": "code",
      "execution_count": 41,
      "metadata": {
        "colab": {
          "base_uri": "https://localhost:8080/"
        },
        "id": "9nGvy3q8vNAE",
        "outputId": "acd278b4-5f63-4030-8335-e3fed74dc488"
      },
      "outputs": [
        {
          "name": "stdout",
          "output_type": "stream",
          "text": [
            "max length = 1873\n"
          ]
        }
      ],
      "source": [
        "voc_size = 4000                #Size of the vocabulary.\n",
        "embedding_dim = 100              #The dimensionality of the word embeddings\n",
        "maxlen = 0  \n",
        "for i in range(len(text)):\n",
        "    x = word_tokenize(text[i])     #Tokenize the cleaned review into words\n",
        "    if len(x) > maxlen:        #finding maximum length\n",
        "        maxlen = len(x)  \n",
        "print(\"max length = {}\".format(maxlen)) \n",
        "oov_tok = \"<OOV>\"                  # The out-of-vocabulary token, used to replace words that are not in the vocabulary"
      ]
    },
    {
      "cell_type": "code",
      "execution_count": 42,
      "metadata": {
        "id": "jbqmA2gTvNAE"
      },
      "outputs": [],
      "source": [
        "tokenizer = Tokenizer(num_words=voc_size, oov_token=oov_tok)  #Tokenizer\n",
        "tokenizer.fit_on_texts(text)                                    #Fit tokenizer on the 'Review' data\n",
        "text_seq = tokenizer.texts_to_sequences(text)                   #Convert the data into sequences of integers using the tokenizer"
      ]
    },
    {
      "cell_type": "code",
      "execution_count": 43,
      "metadata": {
        "colab": {
          "base_uri": "https://localhost:8080/"
        },
        "id": "SMacHRDFvNAE",
        "outputId": "b924759b-ec85-494a-f24d-1058996ae77e"
      },
      "outputs": [
        {
          "data": {
            "text/plain": [
              "array([[   0,    0,    0, ...,  125, 3816,  484],\n",
              "       [   0,    0,    0, ..., 2159,   70,  216],\n",
              "       [   0,    0,    0, ...,   66,   18,  357],\n",
              "       ...,\n",
              "       [   0,    0,    0, ...,   17,  335,  156],\n",
              "       [   0,    0,    0, ...,   51,   19,   71],\n",
              "       [   0,    0,    0, ...,    7,  972, 2673]], dtype=int32)"
            ]
          },
          "execution_count": 43,
          "metadata": {},
          "output_type": "execute_result"
        }
      ],
      "source": [
        "X = pad_sequences(text_seq, maxlen=maxlen, padding='pre')\n",
        "X"
      ]
    },
    {
      "cell_type": "code",
      "execution_count": 44,
      "metadata": {
        "id": "47-odoUivNAE"
      },
      "outputs": [],
      "source": [
        "from sklearn.model_selection import train_test_split\n",
        "\n",
        "X_train, X_test, y_train, y_test = train_test_split(X, lab, train_size=0.8,shuffle=True)"
      ]
    },
    {
      "cell_type": "code",
      "execution_count": 45,
      "metadata": {
        "colab": {
          "base_uri": "https://localhost:8080/"
        },
        "id": "YXGrmCqWvNAF",
        "outputId": "80132e82-6f9f-481a-d318-137b2f6377a2"
      },
      "outputs": [
        {
          "name": "stdout",
          "output_type": "stream",
          "text": [
            "Training Data Review: 8000\n",
            "Test Data Review: 2000\n",
            "Training Data Labels: 8000\n",
            "Test Data Labels: 2000\n"
          ]
        }
      ],
      "source": [
        "print(\"Training Data Review:\",len(X_train))\n",
        "print(\"Test Data Review:\",len(X_test))\n",
        "print(\"Training Data Labels:\",len(y_train))\n",
        "print(\"Test Data Labels:\",len(y_test))"
      ]
    },
    {
      "attachments": {},
      "cell_type": "markdown",
      "metadata": {
        "id": "nsB8goLHvNAF"
      },
      "source": [
        "## Models "
      ]
    },
    {
      "cell_type": "code",
      "execution_count": 46,
      "metadata": {
        "id": "IybNlsqHvNAG"
      },
      "outputs": [],
      "source": [
        "# define an early stopping \n",
        "early_stop = EarlyStopping(monitor='val_loss', patience=3) "
      ]
    },
    {
      "attachments": {},
      "cell_type": "markdown",
      "metadata": {
        "id": "oqIZKfNcvNAG"
      },
      "source": [
        "## RNN"
      ]
    },
    {
      "cell_type": "code",
      "execution_count": 47,
      "metadata": {
        "colab": {
          "base_uri": "https://localhost:8080/"
        },
        "id": "H2_AzuQTvNAG",
        "outputId": "a47ce92e-4bbc-4bb1-f248-a0fdceacb5aa"
      },
      "outputs": [
        {
          "name": "stdout",
          "output_type": "stream",
          "text": [
            "Model: \"sequential\"\n",
            "_________________________________________________________________\n",
            " Layer (type)                Output Shape              Param #   \n",
            "=================================================================\n",
            " embedding (Embedding)       (None, 1873, 100)         400000    \n",
            "                                                                 \n",
            " batch_normalization (BatchN  (None, 1873, 100)        400       \n",
            " ormalization)                                                   \n",
            "                                                                 \n",
            " dropout (Dropout)           (None, 1873, 100)         0         \n",
            "                                                                 \n",
            " simple_rnn (SimpleRNN)      (None, 32)                4256      \n",
            "                                                                 \n",
            " dense (Dense)               (None, 2)                 66        \n",
            "                                                                 \n",
            "=================================================================\n",
            "Total params: 404,722\n",
            "Trainable params: 404,522\n",
            "Non-trainable params: 200\n",
            "_________________________________________________________________\n"
          ]
        }
      ],
      "source": [
        "\n",
        "RNNmodel = Sequential()                                               #Creating a Sequential model\n",
        "RNNmodel.add(Embedding(voc_size, embedding_dim, input_length=maxlen)) #Add an embedding layer to the model \n",
        "RNNmodel.add(BatchNormalization())                                    #BatchNormalization layer to normalize the activations of the previous layer       \n",
        "RNNmodel.add(Dropout(0.5))                                            #Dropout    \n",
        "RNNmodel.add(SimpleRNN(32,kernel_regularizer=regularizers.l2(0.01)))                       #Add a SimpleRNN layer to the model with 32 units\n",
        "RNNmodel.add(Dense(2, activation='softmax'))                          #Add a Softmax layer \n",
        "\n",
        "RNNmodel.compile(loss='binary_crossentropy', optimizer='rmsprop', metrics=['accuracy'])\n",
        "\n",
        "RNNmodel.summary()"
      ]
    },
    {
      "cell_type": "code",
      "execution_count": 48,
      "metadata": {
        "colab": {
          "base_uri": "https://localhost:8080/"
        },
        "id": "ma4v-QgTvNAG",
        "outputId": "9fc37596-07ae-4243-cdd4-3a21afc8caa7"
      },
      "outputs": [
        {
          "name": "stdout",
          "output_type": "stream",
          "text": [
            "Epoch 1/5\n",
            "12/12 [==============================] - 35s 2s/step - loss: 1.1938 - accuracy: 0.5262 - val_loss: 1.0950 - val_accuracy: 0.5430\n",
            "Epoch 2/5\n",
            "12/12 [==============================] - 33s 3s/step - loss: 1.0835 - accuracy: 0.5715 - val_loss: 1.0452 - val_accuracy: 0.5485\n",
            "Epoch 3/5\n",
            "12/12 [==============================] - 31s 3s/step - loss: 0.9998 - accuracy: 0.6202 - val_loss: 1.0005 - val_accuracy: 0.5605\n",
            "Epoch 4/5\n",
            "12/12 [==============================] - 28s 2s/step - loss: 0.9341 - accuracy: 0.6462 - val_loss: 0.9619 - val_accuracy: 0.5665\n",
            "Epoch 5/5\n",
            "12/12 [==============================] - 30s 3s/step - loss: 0.8677 - accuracy: 0.6797 - val_loss: 0.9261 - val_accuracy: 0.5755\n"
          ]
        },
        {
          "data": {
            "text/plain": [
              "<keras.callbacks.History at 0x7f98e2d37700>"
            ]
          },
          "execution_count": 48,
          "metadata": {},
          "output_type": "execute_result"
        }
      ],
      "source": [
        "\n",
        "RNNmodel.fit(X_train,y_train,validation_split=0.25,epochs=5,batch_size=512,callbacks=[early_stop])"
      ]
    },
    {
      "cell_type": "code",
      "execution_count": 49,
      "metadata": {
        "colab": {
          "base_uri": "https://localhost:8080/"
        },
        "id": "9WBvzOahvNAG",
        "outputId": "1d050e4f-8519-4100-c789-f01f28a44e2f"
      },
      "outputs": [
        {
          "name": "stdout",
          "output_type": "stream",
          "text": [
            "63/63 [==============================] - 8s 132ms/step - loss: 0.9288 - accuracy: 0.5465\n",
            "RNN Accuracy: 0.546500027179718\n"
          ]
        }
      ],
      "source": [
        "# Evaluating the model on the test data\n",
        "RNN_Loss, RNN_accuracy = RNNmodel.evaluate(X_test, y_test)\n",
        "print('RNN Accuracy:', RNN_accuracy)\n"
      ]
    },
    {
      "attachments": {},
      "cell_type": "markdown",
      "metadata": {
        "id": "e7zoI8uFvNAG"
      },
      "source": [
        "## LSTM"
      ]
    },
    {
      "cell_type": "code",
      "execution_count": 50,
      "metadata": {
        "colab": {
          "base_uri": "https://localhost:8080/"
        },
        "id": "K3grky34vNAH",
        "outputId": "b960142d-a363-4866-b88f-847afcbbbe89"
      },
      "outputs": [
        {
          "name": "stderr",
          "output_type": "stream",
          "text": [
            "WARNING:tensorflow:Layer lstm will not use cuDNN kernels since it doesn't meet the criteria. It will use a generic GPU kernel as fallback when running on GPU.\n"
          ]
        },
        {
          "name": "stdout",
          "output_type": "stream",
          "text": [
            "Model: \"sequential_1\"\n",
            "_________________________________________________________________\n",
            " Layer (type)                Output Shape              Param #   \n",
            "=================================================================\n",
            " embedding_1 (Embedding)     (None, 1873, 100)         400000    \n",
            "                                                                 \n",
            " batch_normalization_1 (Batc  (None, 1873, 100)        400       \n",
            " hNormalization)                                                 \n",
            "                                                                 \n",
            " dropout_1 (Dropout)         (None, 1873, 100)         0         \n",
            "                                                                 \n",
            " lstm (LSTM)                 (None, 32)                17024     \n",
            "                                                                 \n",
            " dense_1 (Dense)             (None, 2)                 66        \n",
            "                                                                 \n",
            "=================================================================\n",
            "Total params: 417,490\n",
            "Trainable params: 417,290\n",
            "Non-trainable params: 200\n",
            "_________________________________________________________________\n"
          ]
        }
      ],
      "source": [
        "\n",
        "LSTMmodel = Sequential()                                               #Creating a Sequential model\n",
        "LSTMmodel.add(Embedding(voc_size, embedding_dim, input_length=maxlen)) #Add an embedding layer to the model \n",
        "LSTMmodel.add(BatchNormalization())                                    #BatchNormalization layer to normalize the activations of the previous layer       \n",
        "LSTMmodel.add(Dropout(0.5))                                            #Dropout    \n",
        "LSTMmodel.add(LSTM(32, activation='relu',))                            #Add a LSTM layer to the model with 32 units\n",
        "LSTMmodel.add(Dense(2, activation='softmax'))                          #Add a Softmax layer \n",
        "\n",
        "LSTMmodel.compile(loss='binary_crossentropy', optimizer='rmsprop', metrics=['accuracy']) #compile\n",
        "\n",
        "LSTMmodel.summary()"
      ]
    },
    {
      "cell_type": "code",
      "execution_count": 51,
      "metadata": {
        "colab": {
          "base_uri": "https://localhost:8080/"
        },
        "id": "zmLw37VNvNAH",
        "outputId": "c30cdc15-9de9-4fe7-8cd0-abc3d7238f74"
      },
      "outputs": [
        {
          "name": "stdout",
          "output_type": "stream",
          "text": [
            "Epoch 1/5\n",
            "12/12 [==============================] - 51s 4s/step - loss: 0.7337 - accuracy: 0.5378 - val_loss: 0.6923 - val_accuracy: 0.5715\n",
            "Epoch 2/5\n",
            "12/12 [==============================] - 47s 4s/step - loss: 0.6448 - accuracy: 0.6272 - val_loss: 0.6913 - val_accuracy: 0.6215\n",
            "Epoch 3/5\n",
            "12/12 [==============================] - 49s 4s/step - loss: 0.5839 - accuracy: 0.6910 - val_loss: 0.6904 - val_accuracy: 0.5690\n",
            "Epoch 4/5\n",
            "12/12 [==============================] - 48s 4s/step - loss: 0.5169 - accuracy: 0.7462 - val_loss: 0.6893 - val_accuracy: 0.5650\n",
            "Epoch 5/5\n",
            "12/12 [==============================] - 47s 4s/step - loss: 0.4907 - accuracy: 0.7713 - val_loss: 0.6884 - val_accuracy: 0.5630\n"
          ]
        },
        {
          "data": {
            "text/plain": [
              "<keras.callbacks.History at 0x7f9852d26aa0>"
            ]
          },
          "execution_count": 51,
          "metadata": {},
          "output_type": "execute_result"
        }
      ],
      "source": [
        "early_stop = EarlyStopping(monitor='val_loss', patience=3)  \n",
        "LSTMmodel.fit(X_train,y_train,validation_split=0.25,epochs=5,batch_size=512,callbacks=[early_stop])"
      ]
    },
    {
      "cell_type": "code",
      "execution_count": 52,
      "metadata": {
        "colab": {
          "base_uri": "https://localhost:8080/"
        },
        "id": "Gv48rFvAvNAH",
        "outputId": "6eb74e4a-3e85-423e-a0c7-29e1a198406b"
      },
      "outputs": [
        {
          "name": "stdout",
          "output_type": "stream",
          "text": [
            "63/63 [==============================] - 15s 242ms/step - loss: 0.6880 - accuracy: 0.5765\n",
            "LSTM Accuracy: 0.5764999985694885\n"
          ]
        }
      ],
      "source": [
        "# Evaluating the model on the test data\n",
        "LSTM_Loss, LSTM_accuracy = LSTMmodel.evaluate(X_test, y_test)\n",
        "print('LSTM Accuracy:', LSTM_accuracy)\n"
      ]
    },
    {
      "attachments": {},
      "cell_type": "markdown",
      "metadata": {
        "id": "1IrlLhtrvNAH"
      },
      "source": [
        "## GRU"
      ]
    },
    {
      "cell_type": "code",
      "execution_count": 53,
      "metadata": {
        "colab": {
          "base_uri": "https://localhost:8080/"
        },
        "id": "YfcUJIKyvNAH",
        "outputId": "e878f820-4efe-477c-a59f-e700c1f82e7b"
      },
      "outputs": [
        {
          "name": "stderr",
          "output_type": "stream",
          "text": [
            "WARNING:tensorflow:Layer gru will not use cuDNN kernels since it doesn't meet the criteria. It will use a generic GPU kernel as fallback when running on GPU.\n"
          ]
        },
        {
          "name": "stdout",
          "output_type": "stream",
          "text": [
            "Model: \"sequential_2\"\n",
            "_________________________________________________________________\n",
            " Layer (type)                Output Shape              Param #   \n",
            "=================================================================\n",
            " embedding_2 (Embedding)     (None, 1873, 100)         400000    \n",
            "                                                                 \n",
            " batch_normalization_2 (Batc  (None, 1873, 100)        400       \n",
            " hNormalization)                                                 \n",
            "                                                                 \n",
            " dropout_2 (Dropout)         (None, 1873, 100)         0         \n",
            "                                                                 \n",
            " gru (GRU)                   (None, 8)                 2640      \n",
            "                                                                 \n",
            " dense_2 (Dense)             (None, 2)                 18        \n",
            "                                                                 \n",
            "=================================================================\n",
            "Total params: 403,058\n",
            "Trainable params: 402,858\n",
            "Non-trainable params: 200\n",
            "_________________________________________________________________\n"
          ]
        }
      ],
      "source": [
        "\n",
        "GRUmodel = Sequential()                                               #Creating a Sequential model\n",
        "GRUmodel.add(Embedding(voc_size, embedding_dim, input_length=maxlen)) #Add an embedding layer to the model \n",
        "GRUmodel.add(BatchNormalization())                                    #BatchNormalization layer to normalize the activations of the previous layer       \n",
        "GRUmodel.add(Dropout(0.5))                                            #Dropout    \n",
        "GRUmodel.add(GRU(8, dropout=0.25, \n",
        "                 recurrent_dropout=0.25,\n",
        "                 )) #Add a GRU layer to the model with 32 units\n",
        "\n",
        "GRUmodel.add(Dense(2, activation='softmax'))  #Add a Softmax layer \n",
        "\n",
        "GRUmodel.compile(loss='binary_crossentropy',\n",
        "                  optimizer='rmsprop', metrics=['accuracy']) #compile\n",
        "\n",
        "GRUmodel.summary()\n"
      ]
    },
    {
      "cell_type": "code",
      "execution_count": 54,
      "metadata": {
        "colab": {
          "base_uri": "https://localhost:8080/"
        },
        "id": "B2Q76AmtvNAH",
        "outputId": "715f484c-6413-4d0f-a106-b2de5d549ed9"
      },
      "outputs": [
        {
          "name": "stdout",
          "output_type": "stream",
          "text": [
            "Epoch 1/5\n",
            "6/6 [==============================] - 54s 8s/step - loss: 0.7564 - accuracy: 0.5162 - val_loss: 0.6917 - val_accuracy: 0.5395\n",
            "Epoch 2/5\n",
            "6/6 [==============================] - 49s 8s/step - loss: 0.7179 - accuracy: 0.5500 - val_loss: 0.6909 - val_accuracy: 0.5720\n",
            "Epoch 3/5\n",
            "6/6 [==============================] - 46s 8s/step - loss: 0.6936 - accuracy: 0.5732 - val_loss: 0.6900 - val_accuracy: 0.5815\n",
            "Epoch 4/5\n",
            "6/6 [==============================] - 48s 8s/step - loss: 0.6727 - accuracy: 0.6053 - val_loss: 0.6891 - val_accuracy: 0.5780\n",
            "Epoch 5/5\n",
            "6/6 [==============================] - 48s 8s/step - loss: 0.6544 - accuracy: 0.6368 - val_loss: 0.6879 - val_accuracy: 0.5935\n"
          ]
        },
        {
          "data": {
            "text/plain": [
              "<keras.callbacks.History at 0x7f9850074580>"
            ]
          },
          "execution_count": 54,
          "metadata": {},
          "output_type": "execute_result"
        }
      ],
      "source": [
        "\n",
        "GRUmodel.fit(X_train,y_train,validation_split=0.25,epochs=5,batch_size=1024,callbacks=[early_stop])"
      ]
    },
    {
      "cell_type": "code",
      "execution_count": 55,
      "metadata": {
        "colab": {
          "base_uri": "https://localhost:8080/"
        },
        "id": "IxE25F07vNAH",
        "outputId": "e3522618-c56e-435b-f9a8-a6bfe115da58"
      },
      "outputs": [
        {
          "name": "stdout",
          "output_type": "stream",
          "text": [
            "63/63 [==============================] - 34s 547ms/step - loss: 0.6877 - accuracy: 0.6015\n",
            "GRU Accuracy: 0.6014999747276306\n"
          ]
        }
      ],
      "source": [
        "# Evaluating the model on the test data\n",
        "GRU_Loss, GRU_accuracy = GRUmodel.evaluate(X_test, y_test)\n",
        "print('GRU Accuracy:', GRU_accuracy)\n"
      ]
    },
    {
      "attachments": {},
      "cell_type": "markdown",
      "metadata": {
        "id": "GLR1-yA6vNAH"
      },
      "source": [
        "## Bi-Directional RNN"
      ]
    },
    {
      "cell_type": "code",
      "execution_count": 56,
      "metadata": {
        "colab": {
          "base_uri": "https://localhost:8080/"
        },
        "id": "nXjSpRA2vNAH",
        "outputId": "a666e7e4-10ff-4094-88c6-57c0b672ebc1"
      },
      "outputs": [
        {
          "name": "stdout",
          "output_type": "stream",
          "text": [
            "Model: \"sequential_3\"\n",
            "_________________________________________________________________\n",
            " Layer (type)                Output Shape              Param #   \n",
            "=================================================================\n",
            " embedding_3 (Embedding)     (None, 1873, 100)         400000    \n",
            "                                                                 \n",
            " batch_normalization_3 (Batc  (None, 1873, 100)        400       \n",
            " hNormalization)                                                 \n",
            "                                                                 \n",
            " dropout_3 (Dropout)         (None, 1873, 100)         0         \n",
            "                                                                 \n",
            " bidirectional (Bidirectiona  (None, 64)               8512      \n",
            " l)                                                              \n",
            "                                                                 \n",
            " dense_3 (Dense)             (None, 2)                 130       \n",
            "                                                                 \n",
            "=================================================================\n",
            "Total params: 409,042\n",
            "Trainable params: 408,842\n",
            "Non-trainable params: 200\n",
            "_________________________________________________________________\n"
          ]
        }
      ],
      "source": [
        "\n",
        "\n",
        "BiRNN = Sequential()                                               #Creating a Sequential model\n",
        "BiRNN.add(Embedding(voc_size, embedding_dim, input_length=maxlen)) #Add an embedding layer to the model \n",
        "BiRNN.add(BatchNormalization())                                    #BatchNormalization layer to normalize the activations of the previous layer       \n",
        "BiRNN.add(Dropout(0.5))                                            #Dropout    \n",
        "BiRNN.add(Bidirectional(SimpleRNN(32, activation='relu',)))        #Add a Bidirectional SimpleRNN layer to the model with 32 units\n",
        "BiRNN.add(Dense(2, activation='softmax'))                          #Add a Softmax layer \n",
        "\n",
        "BiRNN.compile(loss='binary_crossentropy', optimizer='rmsprop', metrics=['accuracy'])\n",
        "\n",
        "BiRNN.summary()"
      ]
    },
    {
      "cell_type": "code",
      "execution_count": 57,
      "metadata": {
        "colab": {
          "base_uri": "https://localhost:8080/"
        },
        "id": "H9AoRzcivNAH",
        "outputId": "40c70475-7067-4ab0-b144-d11921b641c5"
      },
      "outputs": [
        {
          "name": "stdout",
          "output_type": "stream",
          "text": [
            "Epoch 1/5\n",
            "12/12 [==============================] - 52s 4s/step - loss: 0.8112 - accuracy: 0.5075 - val_loss: 0.6928 - val_accuracy: 0.5025\n",
            "Epoch 2/5\n",
            "12/12 [==============================] - 49s 4s/step - loss: 0.7017 - accuracy: 0.5768 - val_loss: 0.6922 - val_accuracy: 0.5025\n",
            "Epoch 3/5\n",
            "12/12 [==============================] - 48s 4s/step - loss: 0.6718 - accuracy: 0.5953 - val_loss: 0.6913 - val_accuracy: 0.5050\n",
            "Epoch 4/5\n",
            "12/12 [==============================] - 47s 4s/step - loss: 0.6360 - accuracy: 0.6410 - val_loss: 0.6899 - val_accuracy: 0.5075\n",
            "Epoch 5/5\n",
            "12/12 [==============================] - 48s 4s/step - loss: 0.5956 - accuracy: 0.6830 - val_loss: 0.6895 - val_accuracy: 0.5040\n"
          ]
        },
        {
          "data": {
            "text/plain": [
              "<keras.callbacks.History at 0x7f983b79c6a0>"
            ]
          },
          "execution_count": 57,
          "metadata": {},
          "output_type": "execute_result"
        }
      ],
      "source": [
        "\n",
        "BiRNN.fit(X_train,y_train,validation_split=0.25,epochs=5,batch_size=512,callbacks=[early_stop])"
      ]
    },
    {
      "cell_type": "code",
      "execution_count": 58,
      "metadata": {
        "colab": {
          "base_uri": "https://localhost:8080/"
        },
        "id": "L2jCQ7GovNAI",
        "outputId": "487690d1-3cb4-44c8-a4d1-d742aeb446be"
      },
      "outputs": [
        {
          "name": "stdout",
          "output_type": "stream",
          "text": [
            "63/63 [==============================] - 18s 287ms/step - loss: 0.6888 - accuracy: 0.5105\n",
            "Bi-Directional RNN Accuracy: 0.5105000138282776\n"
          ]
        }
      ],
      "source": [
        "# Evaluating the model on the test data\n",
        "BiRNN_Loss, BiRNN_accuracy = BiRNN.evaluate(X_test,y_test)\n",
        "print('Bi-Directional RNN Accuracy:', BiRNN_accuracy)"
      ]
    },
    {
      "attachments": {},
      "cell_type": "markdown",
      "metadata": {
        "id": "syW2uvWTvNAI"
      },
      "source": [
        "## Bi-Directional LSTM"
      ]
    },
    {
      "cell_type": "code",
      "execution_count": 59,
      "metadata": {
        "colab": {
          "base_uri": "https://localhost:8080/"
        },
        "id": "4GJk6pbLvNAI",
        "outputId": "ea295d9e-aacc-4410-e497-39e0ec710f53"
      },
      "outputs": [
        {
          "name": "stderr",
          "output_type": "stream",
          "text": [
            "WARNING:tensorflow:Layer lstm_1 will not use cuDNN kernels since it doesn't meet the criteria. It will use a generic GPU kernel as fallback when running on GPU.\n",
            "WARNING:tensorflow:Layer lstm_1 will not use cuDNN kernels since it doesn't meet the criteria. It will use a generic GPU kernel as fallback when running on GPU.\n",
            "WARNING:tensorflow:Layer lstm_1 will not use cuDNN kernels since it doesn't meet the criteria. It will use a generic GPU kernel as fallback when running on GPU.\n"
          ]
        },
        {
          "name": "stdout",
          "output_type": "stream",
          "text": [
            "Model: \"sequential_4\"\n",
            "_________________________________________________________________\n",
            " Layer (type)                Output Shape              Param #   \n",
            "=================================================================\n",
            " embedding_4 (Embedding)     (None, 1873, 100)         400000    \n",
            "                                                                 \n",
            " batch_normalization_4 (Batc  (None, 1873, 100)        400       \n",
            " hNormalization)                                                 \n",
            "                                                                 \n",
            " dropout_4 (Dropout)         (None, 1873, 100)         0         \n",
            "                                                                 \n",
            " bidirectional_1 (Bidirectio  (None, 64)               34048     \n",
            " nal)                                                            \n",
            "                                                                 \n",
            " dense_4 (Dense)             (None, 2)                 130       \n",
            "                                                                 \n",
            "=================================================================\n",
            "Total params: 434,578\n",
            "Trainable params: 434,378\n",
            "Non-trainable params: 200\n",
            "_________________________________________________________________\n"
          ]
        }
      ],
      "source": [
        "\n",
        "BiLSTM = Sequential()                                               #Creating a Sequential model\n",
        "BiLSTM.add(Embedding(voc_size, embedding_dim, input_length=maxlen)) #Add an embedding layer to the model \n",
        "BiLSTM.add(BatchNormalization())                                    #BatchNormalization layer to normalize the activations of the previous layer       \n",
        "BiLSTM.add(Dropout(0.5))                                            #Dropout    \n",
        "BiLSTM.add(Bidirectional(LSTM(32, activation='relu',)))                         #Add a Bi-Directional LSTM layer to the model with 32 units\n",
        "BiLSTM.add(Dense(2, activation='softmax'))                          #Add a Softmax layer \n",
        "\n",
        "BiLSTM.compile(loss='binary_crossentropy', optimizer='rmsprop', metrics=['accuracy']) #compile\n",
        "\n",
        "BiLSTM.summary()"
      ]
    },
    {
      "cell_type": "code",
      "execution_count": 60,
      "metadata": {
        "colab": {
          "base_uri": "https://localhost:8080/"
        },
        "id": "hK45rtvbvNAI",
        "outputId": "0a50c0ce-12b1-4c16-c7d2-2b012fc9f260"
      },
      "outputs": [
        {
          "name": "stdout",
          "output_type": "stream",
          "text": [
            "Epoch 1/5\n",
            "12/12 [==============================] - 91s 7s/step - loss: 481574032697720832.0000 - accuracy: 0.4932 - val_loss: 0.6963 - val_accuracy: 0.5025\n",
            "Epoch 2/5\n",
            "12/12 [==============================] - 87s 7s/step - loss: nan - accuracy: 0.5048 - val_loss: nan - val_accuracy: 0.4975\n",
            "Epoch 3/5\n",
            "12/12 [==============================] - 91s 8s/step - loss: nan - accuracy: 0.4992 - val_loss: nan - val_accuracy: 0.4975\n",
            "Epoch 4/5\n",
            "12/12 [==============================] - 88s 7s/step - loss: nan - accuracy: 0.4992 - val_loss: nan - val_accuracy: 0.4975\n"
          ]
        },
        {
          "data": {
            "text/plain": [
              "<keras.callbacks.History at 0x7f983d70b370>"
            ]
          },
          "execution_count": 60,
          "metadata": {},
          "output_type": "execute_result"
        }
      ],
      "source": [
        "\n",
        "BiLSTM.fit(X_train,y_train,validation_split=0.25,epochs=5,batch_size=512,callbacks=[early_stop])"
      ]
    },
    {
      "cell_type": "code",
      "execution_count": 61,
      "metadata": {
        "colab": {
          "base_uri": "https://localhost:8080/"
        },
        "id": "nz60GU8nvNAI",
        "outputId": "a2d91352-a819-44ac-d100-64ad4f6f7588"
      },
      "outputs": [
        {
          "name": "stdout",
          "output_type": "stream",
          "text": [
            "63/63 [==============================] - 30s 481ms/step - loss: nan - accuracy: 0.4910\n",
            "Bi-Directional LSTM Accuracy: 0.4909999966621399\n"
          ]
        }
      ],
      "source": [
        "# Evaluating the model on the test data\n",
        "BiLSTM_Loss, BiLSTM_accuracy = BiLSTM.evaluate(X_test,y_test)\n",
        "print('Bi-Directional LSTM Accuracy:', BiLSTM_accuracy)"
      ]
    },
    {
      "attachments": {},
      "cell_type": "markdown",
      "metadata": {
        "id": "hELWusK8vNAJ"
      },
      "source": [
        "## Bi-Directional GRU"
      ]
    },
    {
      "cell_type": "code",
      "execution_count": 62,
      "metadata": {
        "colab": {
          "base_uri": "https://localhost:8080/"
        },
        "id": "LpI_aFegvNAJ",
        "outputId": "5fc55557-dd50-4291-e83d-b2b793a22d58"
      },
      "outputs": [
        {
          "name": "stderr",
          "output_type": "stream",
          "text": [
            "WARNING:tensorflow:Layer gru_1 will not use cuDNN kernels since it doesn't meet the criteria. It will use a generic GPU kernel as fallback when running on GPU.\n",
            "WARNING:tensorflow:Layer gru_1 will not use cuDNN kernels since it doesn't meet the criteria. It will use a generic GPU kernel as fallback when running on GPU.\n",
            "WARNING:tensorflow:Layer gru_1 will not use cuDNN kernels since it doesn't meet the criteria. It will use a generic GPU kernel as fallback when running on GPU.\n"
          ]
        },
        {
          "name": "stdout",
          "output_type": "stream",
          "text": [
            "Model: \"sequential_5\"\n",
            "_________________________________________________________________\n",
            " Layer (type)                Output Shape              Param #   \n",
            "=================================================================\n",
            " embedding_5 (Embedding)     (None, 1873, 100)         400000    \n",
            "                                                                 \n",
            " batch_normalization_5 (Batc  (None, 1873, 100)        400       \n",
            " hNormalization)                                                 \n",
            "                                                                 \n",
            " dropout_5 (Dropout)         (None, 1873, 100)         0         \n",
            "                                                                 \n",
            " bidirectional_2 (Bidirectio  (None, 64)               25728     \n",
            " nal)                                                            \n",
            "                                                                 \n",
            " dense_5 (Dense)             (None, 2)                 130       \n",
            "                                                                 \n",
            "=================================================================\n",
            "Total params: 426,258\n",
            "Trainable params: 426,058\n",
            "Non-trainable params: 200\n",
            "_________________________________________________________________\n"
          ]
        }
      ],
      "source": [
        "\n",
        "BiGRU = Sequential()                                               #Creating a Sequential model\n",
        "BiGRU.add(Embedding(voc_size, embedding_dim, input_length=maxlen)) #Add an embedding layer to the model \n",
        "BiGRU.add(BatchNormalization())                                    #BatchNormalization layer to normalize the activations of the previous layer       \n",
        "BiGRU.add(Dropout(0.5))                                            #Dropout    \n",
        "BiGRU.add(Bidirectional(GRU(32, dropout=0.25, \n",
        "                 recurrent_dropout=0.25,\n",
        "                 activation='relu',)) )#Add a GRU layer to the model with 32 units\n",
        "\n",
        "BiGRU.add(Dense(2, activation='softmax'))  #Add a Softmax layer \n",
        "\n",
        "BiGRU.compile(loss='binary_crossentropy',\n",
        "                  optimizer='rmsprop', metrics=['accuracy']) #compile\n",
        "\n",
        "BiGRU.summary()\n"
      ]
    },
    {
      "cell_type": "code",
      "execution_count": 63,
      "metadata": {
        "colab": {
          "base_uri": "https://localhost:8080/"
        },
        "id": "UpUmCaJMvNAJ",
        "outputId": "00593451-9adc-4a5c-e429-543a565195af"
      },
      "outputs": [
        {
          "name": "stdout",
          "output_type": "stream",
          "text": [
            "Epoch 1/5\n",
            "12/12 [==============================] - 183s 15s/step - loss: 0.7423 - accuracy: 0.5240 - val_loss: 0.6926 - val_accuracy: 0.5035\n",
            "Epoch 2/5\n",
            "12/12 [==============================] - 183s 15s/step - loss: 0.6891 - accuracy: 0.5790 - val_loss: 0.6920 - val_accuracy: 0.5050\n",
            "Epoch 3/5\n",
            "12/12 [==============================] - 180s 15s/step - loss: 0.6629 - accuracy: 0.6160 - val_loss: 0.6910 - val_accuracy: 0.5265\n",
            "Epoch 4/5\n",
            "12/12 [==============================] - 178s 15s/step - loss: 0.6323 - accuracy: 0.6535 - val_loss: 0.6896 - val_accuracy: 0.5455\n",
            "Epoch 5/5\n",
            "12/12 [==============================] - 181s 15s/step - loss: 0.6018 - accuracy: 0.6808 - val_loss: 0.6878 - val_accuracy: 0.5820\n"
          ]
        },
        {
          "data": {
            "text/plain": [
              "<keras.callbacks.History at 0x7f983d0862f0>"
            ]
          },
          "execution_count": 63,
          "metadata": {},
          "output_type": "execute_result"
        }
      ],
      "source": [
        "\n",
        "BiGRU.fit(X_train,y_train,validation_split=0.25,epochs=5,batch_size=512,callbacks=[early_stop])"
      ]
    },
    {
      "cell_type": "code",
      "execution_count": 64,
      "metadata": {
        "colab": {
          "base_uri": "https://localhost:8080/"
        },
        "id": "AMr_ojujvNAJ",
        "outputId": "6cc520e2-35d9-4361-9873-338b2c57a752"
      },
      "outputs": [
        {
          "name": "stdout",
          "output_type": "stream",
          "text": [
            "63/63 [==============================] - 58s 924ms/step - loss: 0.6876 - accuracy: 0.5765\n",
            "Bi-Directional GRU Accuracy: 0.5764999985694885\n"
          ]
        }
      ],
      "source": [
        "# Evaluating the model on the test data\n",
        "BiGRU_Loss, BiGRU_accuracy = BiGRU.evaluate(X_test,y_test)\n",
        "print('Bi-Directional GRU Accuracy:', BiGRU_accuracy)"
      ]
    },
    {
      "attachments": {},
      "cell_type": "markdown",
      "metadata": {
        "id": "9N_yI7wKvNAJ"
      },
      "source": [
        "## Stacked Simple RNN"
      ]
    },
    {
      "cell_type": "code",
      "execution_count": 65,
      "metadata": {
        "colab": {
          "base_uri": "https://localhost:8080/"
        },
        "id": "rN72qr7ivNAJ",
        "outputId": "eda57ab4-d706-4086-f7bc-2f217c250846"
      },
      "outputs": [
        {
          "name": "stdout",
          "output_type": "stream",
          "text": [
            "Model: \"sequential_6\"\n",
            "_________________________________________________________________\n",
            " Layer (type)                Output Shape              Param #   \n",
            "=================================================================\n",
            " embedding_6 (Embedding)     (None, 1873, 100)         400000    \n",
            "                                                                 \n",
            " batch_normalization_6 (Batc  (None, 1873, 100)        400       \n",
            " hNormalization)                                                 \n",
            "                                                                 \n",
            " dropout_6 (Dropout)         (None, 1873, 100)         0         \n",
            "                                                                 \n",
            " simple_rnn_2 (SimpleRNN)    (None, 1873, 32)          4256      \n",
            "                                                                 \n",
            " simple_rnn_3 (SimpleRNN)    (None, 32)                2080      \n",
            "                                                                 \n",
            " dense_6 (Dense)             (None, 2)                 66        \n",
            "                                                                 \n",
            "=================================================================\n",
            "Total params: 406,802\n",
            "Trainable params: 406,602\n",
            "Non-trainable params: 200\n",
            "_________________________________________________________________\n"
          ]
        }
      ],
      "source": [
        "\n",
        "SRNN = Sequential()                                               #Creating a Sequential model\n",
        "SRNN.add(Embedding(voc_size, embedding_dim, input_length=maxlen)) #Add an embedding layer to the model \n",
        "SRNN.add(BatchNormalization())                                    #BatchNormalization layer to normalize the activations of the previous layer       \n",
        "SRNN.add(Dropout(0.5))                                            #Dropout    \n",
        "SRNN.add(SimpleRNN(32, activation='relu',return_sequences=True))                       #Add a SimpleRNN layer to the model with 32 units\n",
        "SRNN.add(SimpleRNN(32))\n",
        "SRNN.add(Dense(2, activation='softmax'))                          #Add a Softmax layer \n",
        "\n",
        "SRNN.compile(loss='binary_crossentropy', optimizer='rmsprop', metrics=['accuracy'])\n",
        "\n",
        "SRNN.summary()"
      ]
    },
    {
      "cell_type": "code",
      "execution_count": 66,
      "metadata": {
        "colab": {
          "base_uri": "https://localhost:8080/"
        },
        "id": "ULfmGrjtvNAJ",
        "outputId": "8b162c6a-f89a-4f0c-a86c-678d70f09f0f"
      },
      "outputs": [
        {
          "name": "stdout",
          "output_type": "stream",
          "text": [
            "Epoch 1/5\n",
            "12/12 [==============================] - 55s 4s/step - loss: 0.7397 - accuracy: 0.5292 - val_loss: 0.7030 - val_accuracy: 0.5025\n",
            "Epoch 2/5\n",
            "12/12 [==============================] - 53s 4s/step - loss: 0.6893 - accuracy: 0.5718 - val_loss: 0.6938 - val_accuracy: 0.5070\n",
            "Epoch 3/5\n",
            "12/12 [==============================] - 53s 4s/step - loss: 0.6519 - accuracy: 0.6320 - val_loss: 0.6928 - val_accuracy: 0.5090\n",
            "Epoch 4/5\n",
            "12/12 [==============================] - 53s 4s/step - loss: 0.6174 - accuracy: 0.6712 - val_loss: 0.7042 - val_accuracy: 0.5025\n",
            "Epoch 5/5\n",
            "12/12 [==============================] - 50s 4s/step - loss: 0.5913 - accuracy: 0.6875 - val_loss: 0.6963 - val_accuracy: 0.5060\n"
          ]
        },
        {
          "data": {
            "text/plain": [
              "<keras.callbacks.History at 0x7f983b9f7a90>"
            ]
          },
          "execution_count": 66,
          "metadata": {},
          "output_type": "execute_result"
        }
      ],
      "source": [
        "\n",
        "SRNN.fit(X_train,y_train,validation_split=0.25,epochs=5,batch_size=512,callbacks=[early_stop])"
      ]
    },
    {
      "cell_type": "code",
      "execution_count": 67,
      "metadata": {
        "colab": {
          "base_uri": "https://localhost:8080/"
        },
        "id": "e_IDnQXJvNAJ",
        "outputId": "0ad308a6-6e7f-49fb-d9c7-f685b4e0c787"
      },
      "outputs": [
        {
          "name": "stdout",
          "output_type": "stream",
          "text": [
            "63/63 [==============================] - 18s 292ms/step - loss: 0.6948 - accuracy: 0.5100\n",
            "Stacked RNN Test Accuracy: 0.5099999904632568\n"
          ]
        }
      ],
      "source": [
        "# Evaluating the model on the test data\n",
        "SRNN_Loss, SRNN_accuracy = SRNN.evaluate(X_test, y_test)\n",
        "print('Stacked RNN Test Accuracy:', SRNN_accuracy)"
      ]
    },
    {
      "attachments": {},
      "cell_type": "markdown",
      "metadata": {
        "id": "bVxlUXR_vNAJ"
      },
      "source": [
        "## Stacked LSTM"
      ]
    },
    {
      "cell_type": "code",
      "execution_count": 68,
      "metadata": {
        "colab": {
          "base_uri": "https://localhost:8080/"
        },
        "id": "wyotgcNCvNAK",
        "outputId": "4934e319-b23f-4fd6-e193-be79e37bcc93"
      },
      "outputs": [
        {
          "name": "stderr",
          "output_type": "stream",
          "text": [
            "WARNING:tensorflow:Layer lstm_2 will not use cuDNN kernels since it doesn't meet the criteria. It will use a generic GPU kernel as fallback when running on GPU.\n",
            "WARNING:tensorflow:Layer lstm_3 will not use cuDNN kernels since it doesn't meet the criteria. It will use a generic GPU kernel as fallback when running on GPU.\n"
          ]
        },
        {
          "name": "stdout",
          "output_type": "stream",
          "text": [
            "Model: \"sequential_7\"\n",
            "_________________________________________________________________\n",
            " Layer (type)                Output Shape              Param #   \n",
            "=================================================================\n",
            " embedding_7 (Embedding)     (None, 1873, 100)         400000    \n",
            "                                                                 \n",
            " batch_normalization_7 (Batc  (None, 1873, 100)        400       \n",
            " hNormalization)                                                 \n",
            "                                                                 \n",
            " lstm_2 (LSTM)               (None, 1873, 32)          17024     \n",
            "                                                                 \n",
            " lstm_3 (LSTM)               (None, 32)                8320      \n",
            "                                                                 \n",
            " dense_7 (Dense)             (None, 2)                 66        \n",
            "                                                                 \n",
            "=================================================================\n",
            "Total params: 425,810\n",
            "Trainable params: 425,610\n",
            "Non-trainable params: 200\n",
            "_________________________________________________________________\n"
          ]
        }
      ],
      "source": [
        "\n",
        "SLSTM = Sequential()                                               #Creating a Sequential model\n",
        "SLSTM.add(Embedding(voc_size, embedding_dim, input_length=maxlen)) #Add an embedding layer to the model \n",
        "SLSTM.add(BatchNormalization())                                    #BatchNormalization layer to normalize the activations of the previous layer       \n",
        "SLSTM.add(LSTM(32, dropout=0.25, recurrent_dropout=0.25, return_sequences=True,))                            #Add a LSTM layer to the model with 32 units\n",
        "SLSTM.add(LSTM(32,dropout=0.25, recurrent_dropout=0.25,)) \n",
        "SLSTM.add(Dense(2, activation='softmax'))                           #Add a Softmax layer \n",
        "\n",
        "SLSTM.compile(loss='binary_crossentropy', optimizer='rmsprop', metrics=['accuracy']) #compile\n",
        "\n",
        "SLSTM.summary()"
      ]
    },
    {
      "cell_type": "code",
      "execution_count": 69,
      "metadata": {
        "colab": {
          "base_uri": "https://localhost:8080/"
        },
        "id": "CoQ23Qa1vNAK",
        "outputId": "f2167bf0-5066-4e61-8a02-3f540974dc54"
      },
      "outputs": [
        {
          "name": "stdout",
          "output_type": "stream",
          "text": [
            "Epoch 1/5\n",
            "12/12 [==============================] - 206s 17s/step - loss: 0.6888 - accuracy: 0.5430 - val_loss: 0.6922 - val_accuracy: 0.5205\n",
            "Epoch 2/5\n",
            "12/12 [==============================] - 198s 17s/step - loss: 0.6570 - accuracy: 0.6110 - val_loss: 0.6893 - val_accuracy: 0.5480\n",
            "Epoch 3/5\n",
            "12/12 [==============================] - 202s 17s/step - loss: 0.5921 - accuracy: 0.6890 - val_loss: 0.6845 - val_accuracy: 0.5940\n",
            "Epoch 4/5\n",
            "12/12 [==============================] - 200s 17s/step - loss: 0.5366 - accuracy: 0.7343 - val_loss: 0.6800 - val_accuracy: 0.6510\n",
            "Epoch 5/5\n",
            "12/12 [==============================] - 198s 16s/step - loss: 0.4652 - accuracy: 0.7903 - val_loss: 0.6733 - val_accuracy: 0.6285\n"
          ]
        },
        {
          "data": {
            "text/plain": [
              "<keras.callbacks.History at 0x7f9831d135b0>"
            ]
          },
          "execution_count": 69,
          "metadata": {},
          "output_type": "execute_result"
        }
      ],
      "source": [
        "\n",
        "SLSTM.fit(X_train,y_train,validation_split=0.25,epochs=5,batch_size=512,callbacks=[early_stop])"
      ]
    },
    {
      "cell_type": "code",
      "execution_count": 70,
      "metadata": {
        "colab": {
          "base_uri": "https://localhost:8080/"
        },
        "id": "GSTtW2NZvNAK",
        "outputId": "6a7c3b4c-cf37-4019-eefb-8c5c310e62db"
      },
      "outputs": [
        {
          "name": "stdout",
          "output_type": "stream",
          "text": [
            "63/63 [==============================] - 60s 959ms/step - loss: 0.6722 - accuracy: 0.6400\n",
            "Stacked LSTM Accuracy: 0.6399999856948853\n"
          ]
        }
      ],
      "source": [
        "# Evaluating the model on the test data\n",
        "SLSTM_Loss, SLSTM_accuracy = SLSTM.evaluate(X_test, y_test)\n",
        "print('Stacked LSTM Accuracy:', SLSTM_accuracy)"
      ]
    },
    {
      "attachments": {},
      "cell_type": "markdown",
      "metadata": {
        "id": "jyVg0l5pvNAK"
      },
      "source": [
        "## Stacked GRU"
      ]
    },
    {
      "cell_type": "code",
      "execution_count": 71,
      "metadata": {
        "colab": {
          "base_uri": "https://localhost:8080/"
        },
        "id": "CGNKpWStvNAK",
        "outputId": "07ae8f97-5871-4947-cfb1-1e16ee4ee9b3"
      },
      "outputs": [
        {
          "name": "stderr",
          "output_type": "stream",
          "text": [
            "WARNING:tensorflow:Layer gru_2 will not use cuDNN kernels since it doesn't meet the criteria. It will use a generic GPU kernel as fallback when running on GPU.\n",
            "WARNING:tensorflow:Layer gru_3 will not use cuDNN kernels since it doesn't meet the criteria. It will use a generic GPU kernel as fallback when running on GPU.\n"
          ]
        },
        {
          "name": "stdout",
          "output_type": "stream",
          "text": [
            "Model: \"sequential_8\"\n",
            "_________________________________________________________________\n",
            " Layer (type)                Output Shape              Param #   \n",
            "=================================================================\n",
            " embedding_8 (Embedding)     (None, 1873, 100)         400000    \n",
            "                                                                 \n",
            " batch_normalization_8 (Batc  (None, 1873, 100)        400       \n",
            " hNormalization)                                                 \n",
            "                                                                 \n",
            " dropout_7 (Dropout)         (None, 1873, 100)         0         \n",
            "                                                                 \n",
            " gru_2 (GRU)                 (None, 1873, 8)           2640      \n",
            "                                                                 \n",
            " gru_3 (GRU)                 (None, 8)                 432       \n",
            "                                                                 \n",
            " dense_8 (Dense)             (None, 2)                 18        \n",
            "                                                                 \n",
            "=================================================================\n",
            "Total params: 403,490\n",
            "Trainable params: 403,290\n",
            "Non-trainable params: 200\n",
            "_________________________________________________________________\n"
          ]
        }
      ],
      "source": [
        "\n",
        "SGRU = Sequential()                                               #Creating a Sequential model\n",
        "SGRU.add(Embedding(voc_size, embedding_dim, input_length=maxlen)) #Add an embedding layer to the model \n",
        "SGRU.add(BatchNormalization())                                    #BatchNormalization layer to normalize the activations of the previous layer       \n",
        "SGRU.add(Dropout(0.5))                                            #Dropout    \n",
        "SGRU.add(GRU(8, dropout=0.25, \n",
        "                 recurrent_dropout=0.25,\n",
        "                 return_sequences=True\n",
        "                 )) #Add a GRU layer to the model with 32 units\n",
        "SGRU.add(GRU(8, dropout=0.2, recurrent_dropout=0.2))\n",
        "\n",
        "SGRU.add(Dense(2, activation='softmax'))  #Add a Softmax layer \n",
        "\n",
        "SGRU.compile(loss='binary_crossentropy',\n",
        "                  optimizer='rmsprop', metrics=['accuracy']) #compile\n",
        "\n",
        "SGRU.summary()\n"
      ]
    },
    {
      "cell_type": "code",
      "execution_count": 72,
      "metadata": {
        "colab": {
          "base_uri": "https://localhost:8080/"
        },
        "id": "DwgIezKKvNAK",
        "outputId": "9a82dc39-5ae3-4999-b590-ff0a4bdc0be1"
      },
      "outputs": [
        {
          "name": "stdout",
          "output_type": "stream",
          "text": [
            "Epoch 1/5\n",
            "12/12 [==============================] - 186s 15s/step - loss: 0.6970 - accuracy: 0.5188 - val_loss: 0.6922 - val_accuracy: 0.5155\n",
            "Epoch 2/5\n",
            "12/12 [==============================] - 180s 15s/step - loss: 0.6846 - accuracy: 0.5633 - val_loss: 0.6911 - val_accuracy: 0.5325\n",
            "Epoch 3/5\n",
            "12/12 [==============================] - 184s 15s/step - loss: 0.6731 - accuracy: 0.5982 - val_loss: 0.6894 - val_accuracy: 0.5780\n",
            "Epoch 4/5\n",
            "12/12 [==============================] - 180s 15s/step - loss: 0.6543 - accuracy: 0.6410 - val_loss: 0.6868 - val_accuracy: 0.5935\n",
            "Epoch 5/5\n",
            "12/12 [==============================] - 179s 15s/step - loss: 0.6313 - accuracy: 0.6753 - val_loss: 0.6833 - val_accuracy: 0.6335\n"
          ]
        },
        {
          "data": {
            "text/plain": [
              "<keras.callbacks.History at 0x7f982a22a680>"
            ]
          },
          "execution_count": 72,
          "metadata": {},
          "output_type": "execute_result"
        }
      ],
      "source": [
        "\n",
        "SGRU.fit(X_train,y_train,validation_split=0.25,epochs=5,batch_size=512,callbacks=[early_stop])"
      ]
    },
    {
      "cell_type": "code",
      "execution_count": 73,
      "metadata": {
        "colab": {
          "base_uri": "https://localhost:8080/"
        },
        "id": "vmVyCsznvNAK",
        "outputId": "cd13a611-1901-4bb8-baa4-7fbe2a64c430"
      },
      "outputs": [
        {
          "name": "stdout",
          "output_type": "stream",
          "text": [
            "63/63 [==============================] - 68s 1s/step - loss: 0.6833 - accuracy: 0.6450\n",
            "Stacked LSTM Accuracy: 0.6449999809265137\n"
          ]
        }
      ],
      "source": [
        "# Evaluating the model on the test data\n",
        "SGRU_Loss, SGRU_accuracy = SGRU.evaluate(X_test, y_test)\n",
        "print('Stacked LSTM Accuracy:', SGRU_accuracy)"
      ]
    },
    {
      "attachments": {},
      "cell_type": "markdown",
      "metadata": {},
      "source": [
        "ALL MODEL COMPARISON"
      ]
    },
    {
      "cell_type": "code",
      "execution_count": 80,
      "metadata": {
        "colab": {
          "base_uri": "https://localhost:8080/"
        },
        "id": "ykgzu9zf-erc",
        "outputId": "637a00c2-9954-4e21-e5d6-54f54270d558"
      },
      "outputs": [
        {
          "name": "stdout",
          "output_type": "stream",
          "text": [
            "Models\t\t\tAccuracy\t\t\tLoss\n",
            "RNN\t\t 0.546500027179718 \t\t 0.9288047552108765\n",
            "LSTM\t\t 0.5764999985694885 \t\t 0.6879608631134033\n",
            "GRU\t\t 0.6014999747276306 \t\t 0.6876621246337891\n",
            "Bi-RNN\t\t 0.5105000138282776 \t\t 0.6888228058815002\n",
            "Bi-LSTM\t\t 0.4909999966621399 \t\t nan\n",
            "Bi-GRU\t\t 0.5764999985694885 \t\t 0.6875886917114258\n",
            "Stacked RNN\t 0.5099999904632568 \t\t 0.6948187947273254\n",
            "Stacked LSTM\t 0.6399999856948853 \t\t 0.6722079515457153\n",
            "Stacked GRU\t 0.6449999809265137 \t\t 0.6833115220069885\n",
            "Glove-LSTM\t 0.6769999861717224 \t\t 0.7718069553375244\n"
          ]
        }
      ],
      "source": [
        "print('Models\\t\\t\\tAccuracy\\t\\t\\tLoss')\n",
        "print('RNN\\t\\t',RNN_accuracy,'\\t\\t',RNN_Loss,)\n",
        "print('LSTM\\t\\t',LSTM_accuracy,'\\t\\t',LSTM_Loss,)\n",
        "print('GRU\\t\\t',GRU_accuracy,'\\t\\t',GRU_Loss,)\n",
        "print('Bi-RNN\\t\\t',BiRNN_accuracy,'\\t\\t',BiRNN_Loss,)\n",
        "print('Bi-LSTM\\t\\t',BiLSTM_accuracy,'\\t\\t',BiLSTM_Loss,)\n",
        "print('Bi-GRU\\t\\t',BiGRU_accuracy,'\\t\\t',BiGRU_Loss,)\n",
        "print('Stacked RNN\\t',SRNN_accuracy,'\\t\\t',SRNN_Loss,)\n",
        "print('Stacked LSTM\\t',SLSTM_accuracy,'\\t\\t',SLSTM_Loss,)\n",
        "print('Stacked GRU\\t',SGRU_accuracy,'\\t\\t',SGRU_Loss,)\n",
        "print('Glove-LSTM\\t',0.6769999861717224,'\\t\\t',0.7718069553375244,)  #implemented glove in seperate .ipynb file"
      ]
    },
    {
      "cell_type": "code",
      "execution_count": null,
      "metadata": {},
      "outputs": [],
      "source": []
    },
    {
      "cell_type": "code",
      "execution_count": null,
      "metadata": {},
      "outputs": [],
      "source": []
    },
    {
      "cell_type": "code",
      "execution_count": null,
      "metadata": {},
      "outputs": [],
      "source": []
    },
    {
      "cell_type": "code",
      "execution_count": null,
      "metadata": {},
      "outputs": [],
      "source": []
    },
    {
      "cell_type": "code",
      "execution_count": null,
      "metadata": {},
      "outputs": [],
      "source": []
    },
    {
      "cell_type": "code",
      "execution_count": null,
      "metadata": {},
      "outputs": [],
      "source": []
    },
    {
      "cell_type": "code",
      "execution_count": null,
      "metadata": {},
      "outputs": [],
      "source": []
    }
  ],
  "metadata": {
    "accelerator": "GPU",
    "colab": {
      "gpuType": "T4",
      "provenance": []
    },
    "gpuClass": "standard",
    "kernelspec": {
      "display_name": "tensor",
      "language": "python",
      "name": "python3"
    },
    "language_info": {
      "codemirror_mode": {
        "name": "ipython",
        "version": 3
      },
      "file_extension": ".py",
      "mimetype": "text/x-python",
      "name": "python",
      "nbconvert_exporter": "python",
      "pygments_lexer": "ipython3",
      "version": "3.9.16"
    },
    "orig_nbformat": 4
  },
  "nbformat": 4,
  "nbformat_minor": 0
}
